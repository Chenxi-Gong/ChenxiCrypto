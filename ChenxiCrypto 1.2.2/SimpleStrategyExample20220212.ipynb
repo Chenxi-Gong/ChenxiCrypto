{
 "cells": [
  {
   "cell_type": "code",
   "execution_count": 20,
   "id": "89cce67f",
   "metadata": {},
   "outputs": [
    {
     "name": "stdout",
     "output_type": "stream",
     "text": [
      "simulation finished\n",
      "average profit: -0.13189787552305102\n",
      "average commission: 0.13246379471895484\n"
     ]
    }
   ],
   "source": [
    "import chenxicrypto as cc # 1.2.2\n",
    "\n",
    "class Simul(cc.Simulation):\n",
    "    def __init__(self):\n",
    "        super(Simul, self).__init__()\n",
    "        self.symbol = 'BTC-USDT'\n",
    "        self.ttype = '1min'\n",
    "        self.commission = 0.001\n",
    "    \n",
    "    def buySignal(self):\n",
    "        buyPercent = 0.0\n",
    "        if self.i >= 3:\n",
    "            if self.priceList[self.i] > self.priceList[self.i - 1]:\n",
    "                if self.priceList[self.i - 1] > self.priceList[self.i - 2]:\n",
    "                    if self.priceList[self.i - 2] > self.priceList[self.i - 3]:\n",
    "                        buyPercent = 1.0\n",
    "        return buyPercent\n",
    "\n",
    "    def sellSignal(self):\n",
    "        sellPercent = 0.0\n",
    "        if self.i >= 3:\n",
    "            if self.priceList[self.i] <= self.priceList[self.i - 1]:\n",
    "                if self.priceList[self.i - 1] <= self.priceList[self.i - 2]:\n",
    "                    sellPercent = 1.0\n",
    "        return sellPercent\n",
    "    \n",
    "simul = Simul()\n",
    "\n",
    "ym = '2021-11-'\n",
    "day_num = 30\n",
    "\n",
    "symbol = 'BTC-USDT'\n",
    "interval = '1min'\n",
    "\n",
    "profit_sum = 0.0\n",
    "commission_sum = 0.0\n",
    "\n",
    "for date in range(day_num):\n",
    "    d = str(date+1)\n",
    "    if len(d) == 1:\n",
    "        d = '0'+ d\n",
    "    \n",
    "    simul.startAt = ym + d + ' 00:00:00'\n",
    "    simul.endAt = ym + d + ' 23:59:59'\n",
    "    simul.timeList = None\n",
    "    simul.priceList = None\n",
    "    simul.simulate()\n",
    "    \n",
    "    #print(d)\n",
    "    #print(simul.profit)\n",
    "    #print(simul.simpleProfit)\n",
    "    #print(simul.profit - simul.simpleProfit)\n",
    "    #print(simul.commissionCostRate)\n",
    "    \n",
    "    profit_sum += simul.profit - simul.simpleProfit\n",
    "    commission_sum += simul.commissionCostRate\n",
    "    \n",
    "print('simulation finished')\n",
    "print('average profit:', profit_sum/day_num)\n",
    "print('average commission:', commission_sum/day_num)"
   ]
  },
  {
   "cell_type": "code",
   "execution_count": null,
   "id": "b38bc9ce",
   "metadata": {},
   "outputs": [],
   "source": []
  }
 ],
 "metadata": {
  "kernelspec": {
   "display_name": "Python [conda env:pytorch]",
   "language": "python",
   "name": "conda-env-pytorch-py"
  },
  "language_info": {
   "codemirror_mode": {
    "name": "ipython",
    "version": 3
   },
   "file_extension": ".py",
   "mimetype": "text/x-python",
   "name": "python",
   "nbconvert_exporter": "python",
   "pygments_lexer": "ipython3",
   "version": "3.7.11"
  }
 },
 "nbformat": 4,
 "nbformat_minor": 5
}
